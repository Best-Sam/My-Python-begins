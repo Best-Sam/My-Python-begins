{
 "cells": [
  {
   "cell_type": "code",
   "execution_count": 1,
   "id": "a34d784a-2f68-4c5d-9338-b5df7612e3c8",
   "metadata": {},
   "outputs": [
    {
     "name": "stdout",
     "output_type": "stream",
     "text": [
      "Hello World\n"
     ]
    }
   ],
   "source": [
    "print(\"Hello World\")"
   ]
  },
  {
   "cell_type": "code",
   "execution_count": 2,
   "id": "d3672be9-e6ec-4d67-9fac-c865535827dd",
   "metadata": {},
   "outputs": [
    {
     "name": "stdout",
     "output_type": "stream",
     "text": [
      "yes\n"
     ]
    }
   ],
   "source": [
    "if 5>2:\n",
    "    print(\"yes\")"
   ]
  },
  {
   "cell_type": "code",
   "execution_count": 3,
   "id": "ed6f7bd0-02ad-4f84-b06e-4653d892cb5e",
   "metadata": {},
   "outputs": [
    {
     "name": "stdout",
     "output_type": "stream",
     "text": [
      "5\n",
      "sally\n"
     ]
    }
   ],
   "source": [
    "x =5\n",
    "y = \"sally\"\n",
    "print(x)\n",
    "print(y)"
   ]
  },
  {
   "cell_type": "code",
   "execution_count": 4,
   "id": "8d7fe96d-71cd-40a6-a946-36a0a5071f2e",
   "metadata": {},
   "outputs": [
    {
     "data": {
      "text/plain": [
       "7"
      ]
     },
     "execution_count": 4,
     "metadata": {},
     "output_type": "execute_result"
    }
   ],
   "source": [
    "x = 3\n",
    "y = 4\n",
    "z = x+y\n",
    "z"
   ]
  },
  {
   "cell_type": "code",
   "execution_count": 5,
   "id": "685fe61b-cd70-4f53-9a6a-1cd0ecbbea68",
   "metadata": {},
   "outputs": [
    {
     "data": {
      "text/plain": [
       "7.0"
      ]
     },
     "execution_count": 5,
     "metadata": {},
     "output_type": "execute_result"
    }
   ],
   "source": [
    "x=float(3)\n",
    "y=int(4)\n",
    "z=x+y\n",
    "z"
   ]
  },
  {
   "cell_type": "code",
   "execution_count": 6,
   "id": "cdffe452-091d-4545-80e9-302e4a598a5d",
   "metadata": {},
   "outputs": [
    {
     "name": "stdout",
     "output_type": "stream",
     "text": [
      "Money\n",
      "cars\n",
      "house\n"
     ]
    }
   ],
   "source": [
    "x, y, z = \"Money\",\"cars\",\"house\"\n",
    "print(x)\n",
    "print(y)\n",
    "print(z)"
   ]
  },
  {
   "cell_type": "code",
   "execution_count": 7,
   "id": "4094a095-f0c9-4e1d-a6f2-af5fd1ea4122",
   "metadata": {},
   "outputs": [
    {
     "name": "stdout",
     "output_type": "stream",
     "text": [
      "apple\n",
      "banana\n",
      "cherry\n"
     ]
    }
   ],
   "source": [
    "fruits = [\"apple\", \"banana\", \"cherry\"]\n",
    "x,y,z = fruits\n",
    "print(x)\n",
    "print(y)\n",
    "print(z)"
   ]
  },
  {
   "cell_type": "code",
   "execution_count": 8,
   "id": "d5e7c242-1a2e-4382-8e38-86780eb73cf1",
   "metadata": {},
   "outputs": [
    {
     "name": "stdout",
     "output_type": "stream",
     "text": [
      "ebuka is awesome \n"
     ]
    }
   ],
   "source": [
    "x = \"ebuka \"\n",
    "y = \"is \"\n",
    "z = \"awesome \"\n",
    "print(x + y + z)"
   ]
  },
  {
   "cell_type": "code",
   "execution_count": 9,
   "id": "d673905f-6790-4234-8df1-463981d09c43",
   "metadata": {},
   "outputs": [
    {
     "name": "stdout",
     "output_type": "stream",
     "text": [
      "5 ebuka\n"
     ]
    }
   ],
   "source": [
    "x = 5\n",
    "y = \"ebuka\"\n",
    "print(x, y)"
   ]
  },
  {
   "cell_type": "code",
   "execution_count": 10,
   "id": "39f50e41-a6a0-4d05-a338-dc47e5031834",
   "metadata": {},
   "outputs": [
    {
     "name": "stdout",
     "output_type": "stream",
     "text": [
      "i am ebuka\n"
     ]
    }
   ],
   "source": [
    "x = \"ebuka\"\n",
    "def myfunc():\n",
    "    print(\"i am \" + x)\n",
    "myfunc()"
   ]
  },
  {
   "cell_type": "code",
   "execution_count": 11,
   "id": "a509bdfd-9162-4a03-9636-47694db40367",
   "metadata": {},
   "outputs": [
    {
     "name": "stdout",
     "output_type": "stream",
     "text": [
      "i am great\n",
      "i am ebuka\n"
     ]
    }
   ],
   "source": [
    "def myfunc():\n",
    "    y=\"great\"\n",
    "    print(\"i am \" + y)\n",
    "myfunc()\n",
    "print(\"i am \" + y)"
   ]
  },
  {
   "cell_type": "code",
   "execution_count": 12,
   "id": "bf895351-8076-42e9-9ae7-ab054215dad6",
   "metadata": {},
   "outputs": [
    {
     "data": {
      "text/plain": [
       "1"
      ]
     },
     "execution_count": 12,
     "metadata": {},
     "output_type": "execute_result"
    }
   ],
   "source": [
    "import random\n",
    "random.randrange(1,10)"
   ]
  },
  {
   "cell_type": "code",
   "execution_count": 9,
   "id": "9245d6af-5c96-4247-b569-5bbae95251eb",
   "metadata": {},
   "outputs": [
    {
     "data": {
      "text/plain": [
       "8"
      ]
     },
     "execution_count": 9,
     "metadata": {},
     "output_type": "execute_result"
    }
   ],
   "source": [
    "import random\n",
    "random.randrange(1,10)"
   ]
  },
  {
   "cell_type": "code",
   "execution_count": 13,
   "id": "e9699d63-9344-4d14-9c1c-e91892ffcda0",
   "metadata": {},
   "outputs": [
    {
     "name": "stdout",
     "output_type": "stream",
     "text": [
      "W\n"
     ]
    }
   ],
   "source": [
    "a = \"Hello World\"\n",
    "print(a[6])"
   ]
  },
  {
   "cell_type": "code",
   "execution_count": 14,
   "id": "d2882a94-0895-42d2-9c75-a35239f636cd",
   "metadata": {},
   "outputs": [
    {
     "name": "stdout",
     "output_type": "stream",
     "text": [
      "h\n",
      "e\n",
      "l\n",
      "l\n",
      "o\n"
     ]
    }
   ],
   "source": [
    "for x in \"hello\":\n",
    "    print(x)"
   ]
  },
  {
   "cell_type": "code",
   "execution_count": 15,
   "id": "3702b992-8ed5-4c12-97e3-b2a8695591fd",
   "metadata": {},
   "outputs": [
    {
     "name": "stdout",
     "output_type": "stream",
     "text": [
      "my name is Ebuka i am 28 my favourite colour is Black\n"
     ]
    }
   ],
   "source": [
    "Name = \"Ebuka\"\n",
    "Age = 28\n",
    "Colour = \"Black\"\n",
    "print(\"my name is\", Name, \"i am\", Age, \"my favourite colour is\", Colour )"
   ]
  },
  {
   "cell_type": "code",
   "execution_count": 16,
   "id": "8b6231f6-a7da-4fcd-9b08-390b38eb7209",
   "metadata": {},
   "outputs": [
    {
     "name": "stdout",
     "output_type": "stream",
     "text": [
      "33\n"
     ]
    }
   ],
   "source": [
    "NewAge = Age + 5\n",
    "print(NewAge)"
   ]
  },
  {
   "cell_type": "code",
   "execution_count": 17,
   "id": "9faa9d78-1986-46c1-90b1-cbc539238eff",
   "metadata": {},
   "outputs": [
    {
     "name": "stdout",
     "output_type": "stream",
     "text": [
      "in 5 years i will be 33 years old\n"
     ]
    }
   ],
   "source": [
    "print(\"in 5 years\", \"i will be\", NewAge, \"years old\")"
   ]
  },
  {
   "cell_type": "code",
   "execution_count": 21,
   "id": "da5c3d4e-a1c1-4cc7-b002-29a4ffd0dd8e",
   "metadata": {},
   "outputs": [
    {
     "name": "stdout",
     "output_type": "stream",
     "text": [
      "My name is Ebuka , i am 28 my favourite colour is Black in 5 years i will be 33 years old\n"
     ]
    }
   ],
   "source": [
    "print(\"My name is\", Name,\",\", \"i am\", Age, \"my favourite colour is\", Colour, \"in 5 years\", \"i will be\", NewAge, \"years old\")"
   ]
  },
  {
   "cell_type": "code",
   "execution_count": 3,
   "id": "259e6d24-d34a-430c-a35b-395a0c1d07f2",
   "metadata": {},
   "outputs": [
    {
     "name": "stdout",
     "output_type": "stream",
     "text": [
      " my name is ebuka\n"
     ]
    }
   ],
   "source": [
    "print(f\" my name is {Name}\")"
   ]
  },
  {
   "cell_type": "code",
   "execution_count": 2,
   "id": "43193ac7-592f-4ef1-8dbc-592804f57b0e",
   "metadata": {},
   "outputs": [
    {
     "name": "stdin",
     "output_type": "stream",
     "text": [
      "please put in your name: ebuka\n",
      "please put in your age: 27\n",
      "put your Fav colour: green\n"
     ]
    },
    {
     "name": "stdout",
     "output_type": "stream",
     "text": [
      " my name is ebuka, i am 27 years old and my fav colour is green\n"
     ]
    }
   ],
   "source": [
    "Name=input(\"please put in your name:\")\n",
    "Age=input(\"please put in your age:\")\n",
    "Favcolour=input(\"put your Fav colour:\")\n",
    "print(f\" my name is {Name}, i am {Age} years old and my fav colour is {Favcolour}\")"
   ]
  },
  {
   "cell_type": "code",
   "execution_count": 10,
   "id": "40501d0e-c2d1-40d7-baa0-08a0747adb1a",
   "metadata": {},
   "outputs": [
    {
     "name": "stdin",
     "output_type": "stream",
     "text": [
      "please put in your name: 123\n",
      "please your age: 34\n",
      "please your favcolour: 34\n"
     ]
    },
    {
     "name": "stdout",
     "output_type": "stream",
     "text": [
      " my name is 123, i am 34 years old and my fav colour is 34\n"
     ]
    }
   ],
   "source": [
    "name=str(input(\"please put in your name:\"))\n",
    "age=int(input(\"please your age:\"))\n",
    "favcolour=str(input(\"please your favcolour:\"))\n",
    "print(f\" my name is {name}, i am {age} years old and my fav colour is {favcolour}\")"
   ]
  },
  {
   "cell_type": "code",
   "execution_count": 2,
   "id": "361fd161-0016-4d82-a9b1-e3144f0ae94e",
   "metadata": {},
   "outputs": [
    {
     "name": "stdin",
     "output_type": "stream",
     "text": [
      "enter unknown no 6\n",
      "enter unknown no 9\n"
     ]
    },
    {
     "name": "stdout",
     "output_type": "stream",
     "text": [
      "15\n",
      "-3\n",
      "54\n",
      "0.6666666666666666\n"
     ]
    }
   ],
   "source": [
    "# Building a calculator \n",
    "# Program that allows users to input 2 values, then calculate the sum, difference, product and division, then print the results of each operations\n",
    "x = int(input(\"enter unknown no\"))\n",
    "y = int(input(\"enter unknown no\"))\n",
    "sum = x+y\n",
    "diff = x-y\n",
    "product = x*y\n",
    "division = x/y\n",
    "print(sum)\n",
    "print(diff)\n",
    "print(product)\n",
    "print(division)"
   ]
  },
  {
   "cell_type": "code",
   "execution_count": 1,
   "id": "a2706762-7198-425f-bd16-9a2e79db75f7",
   "metadata": {},
   "outputs": [
    {
     "name": "stdout",
     "output_type": "stream",
     "text": [
      "ell\n"
     ]
    }
   ],
   "source": [
    "## Slicing strings\n",
    "b = \"hello, world!\"\n",
    "print(b[1:4])"
   ]
  },
  {
   "cell_type": "code",
   "execution_count": 2,
   "id": "92a1bc0f-9221-450e-bc55-733f6d17d6bf",
   "metadata": {},
   "outputs": [
    {
     "data": {
      "text/plain": [
       "16"
      ]
     },
     "execution_count": 2,
     "metadata": {},
     "output_type": "execute_result"
    }
   ],
   "source": [
    "import random\n",
    "random.randrange(5,20)"
   ]
  },
  {
   "cell_type": "code",
   "execution_count": 3,
   "id": "0538006b-08cf-4d7c-a394-034a6978f017",
   "metadata": {},
   "outputs": [
    {
     "data": {
      "text/plain": [
       "'llo '"
      ]
     },
     "execution_count": 3,
     "metadata": {},
     "output_type": "execute_result"
    }
   ],
   "source": [
    "a = \"hello world!\"\n",
    "a[(random.randrange(0,10)):(random.randrange(0,10))]"
   ]
  },
  {
   "cell_type": "code",
   "execution_count": 4,
   "id": "7b1ba628-660f-43b0-bde4-faa4704aeb0d",
   "metadata": {},
   "outputs": [
    {
     "data": {
      "text/plain": [
       "'HELLO WORLD!'"
      ]
     },
     "execution_count": 4,
     "metadata": {},
     "output_type": "execute_result"
    }
   ],
   "source": [
    "# Modify strings\n",
    "a.upper()"
   ]
  },
  {
   "cell_type": "code",
   "execution_count": 5,
   "id": "ba97fc51-14ca-4519-8db6-05186b6d4a1d",
   "metadata": {},
   "outputs": [],
   "source": [
    "a=a.upper()"
   ]
  },
  {
   "cell_type": "code",
   "execution_count": 6,
   "id": "8c1c3137-ce74-495b-9b42-0591cadd9204",
   "metadata": {},
   "outputs": [
    {
     "data": {
      "text/plain": [
       "'HELLO WORLD!'"
      ]
     },
     "execution_count": 6,
     "metadata": {},
     "output_type": "execute_result"
    }
   ],
   "source": [
    "a"
   ]
  },
  {
   "cell_type": "code",
   "execution_count": 7,
   "id": "f3afc388-7f16-441d-bd62-5026063f6d5d",
   "metadata": {},
   "outputs": [
    {
     "data": {
      "text/plain": [
       "'YELLO WORLD!'"
      ]
     },
     "execution_count": 7,
     "metadata": {},
     "output_type": "execute_result"
    }
   ],
   "source": [
    "a.replace(\"H\", \"Y\")"
   ]
  },
  {
   "cell_type": "code",
   "execution_count": 2,
   "id": "db41156c-4cfe-4f91-8ab8-d9fc3a681c7e",
   "metadata": {},
   "outputs": [
    {
     "data": {
      "text/plain": [
       "'WELCOME'"
      ]
     },
     "execution_count": 2,
     "metadata": {},
     "output_type": "execute_result"
    }
   ],
   "source": [
    "\"welcome\". upper()"
   ]
  },
  {
   "cell_type": "code",
   "execution_count": 12,
   "id": "640c2fb6-2145-43b9-86d1-4a3cf69362fe",
   "metadata": {},
   "outputs": [],
   "source": [
    "a = \"Hello \\\"World\\\"\" "
   ]
  },
  {
   "cell_type": "code",
   "execution_count": 10,
   "id": "61920935-dcd9-4608-b800-59a6f1232054",
   "metadata": {},
   "outputs": [
    {
     "data": {
      "text/plain": [
       "'Hello \"World\" '"
      ]
     },
     "execution_count": 10,
     "metadata": {},
     "output_type": "execute_result"
    }
   ],
   "source": [
    "a"
   ]
  },
  {
   "cell_type": "code",
   "execution_count": 13,
   "id": "b774ab89-a935-4378-a635-6bdb9ba0ca11",
   "metadata": {},
   "outputs": [
    {
     "data": {
      "text/plain": [
       "False"
      ]
     },
     "execution_count": 13,
     "metadata": {},
     "output_type": "execute_result"
    }
   ],
   "source": [
    "# Boolean\n",
    "2>4"
   ]
  },
  {
   "cell_type": "code",
   "execution_count": 18,
   "id": "29a000a8-2341-4eba-8ed9-cbc9f3248350",
   "metadata": {},
   "outputs": [
    {
     "name": "stdout",
     "output_type": "stream",
     "text": [
      "now u know\n"
     ]
    }
   ],
   "source": [
    "a = 33\n",
    "b = 44\n",
    "if a > b:\n",
    "    print(\"connected\")\n",
    "else:\n",
    "    print(\"now u know\")"
   ]
  },
  {
   "cell_type": "code",
   "execution_count": 28,
   "id": "37a59f75-95ea-4c8a-805e-10414c08cc8c",
   "metadata": {},
   "outputs": [
    {
     "data": {
      "text/plain": [
       "False"
      ]
     },
     "execution_count": 28,
     "metadata": {},
     "output_type": "execute_result"
    }
   ],
   "source": [
    "x=4\n",
    "x == 2"
   ]
  },
  {
   "cell_type": "markdown",
   "id": "255caed9-6023-478b-b566-41395e3a839b",
   "metadata": {},
   "source": [
    "List =[   ]\n",
    "Tupple = (  )\n",
    "Set = {   }\n",
    "Dictionary = {k:p}"
   ]
  },
  {
   "cell_type": "code",
   "execution_count": null,
   "id": "e7a427cd-7372-4f3e-8db0-4c2d7047264a",
   "metadata": {},
   "outputs": [],
   "source": [
    "age = [22, 33, 83,11, '\n",
    "    "
   ]
  },
  {
   "cell_type": "code",
   "execution_count": 1,
   "id": "e6127171-3762-4d84-8d17-87e85e404304",
   "metadata": {},
   "outputs": [
    {
     "data": {
      "text/plain": [
       "148"
      ]
     },
     "execution_count": 1,
     "metadata": {},
     "output_type": "execute_result"
    }
   ],
   "source": [
    "# Write a python program that stores the age of 10 students and then\n",
    "# (1). sum up all the ages. Print the reults of the added ages and the multiplied ages\n",
    "ages = [10, 20, 16, 15, 14,19,12, 13, 11,18]\n",
    "\n",
    "sum(ages)"
   ]
  },
  {
   "cell_type": "code",
   "execution_count": 6,
   "id": "f8026ed9-1dd0-4435-bcd1-d59cb1f6e387",
   "metadata": {},
   "outputs": [],
   "source": [
    "ages = [10, 20, 16, 15, 14,19,12, 13, 11,18]\n",
    "Total_age = 1\n",
    "for i in ages:\n",
    "    Total_age *= i"
   ]
  },
  {
   "cell_type": "code",
   "execution_count": 4,
   "id": "16eeee9e-3379-48ef-be18-670ca88bf275",
   "metadata": {},
   "outputs": [
    {
     "data": {
      "text/plain": [
       "394377984000"
      ]
     },
     "execution_count": 4,
     "metadata": {},
     "output_type": "execute_result"
    }
   ],
   "source": [
    "Total_age"
   ]
  },
  {
   "cell_type": "code",
   "execution_count": 52,
   "id": "91847976-399e-429a-88b1-13b855d01687",
   "metadata": {},
   "outputs": [],
   "source": [
    "lucky_num = random.randrange(0,10)"
   ]
  },
  {
   "cell_type": "code",
   "execution_count": 53,
   "id": "3398723e-8a06-44bc-90cb-1e7c323b7a38",
   "metadata": {},
   "outputs": [
    {
     "data": {
      "text/plain": [
       "6"
      ]
     },
     "execution_count": 53,
     "metadata": {},
     "output_type": "execute_result"
    }
   ],
   "source": [
    "lucky_num"
   ]
  },
  {
   "cell_type": "code",
   "execution_count": 4,
   "id": "61f79bc3-6a1e-4ece-9ec3-05668c4dbb57",
   "metadata": {},
   "outputs": [
    {
     "name": "stdin",
     "output_type": "stream",
     "text": [
      "kindly input your lotto: 6\n"
     ]
    },
    {
     "name": "stdout",
     "output_type": "stream",
     "text": [
      "please try again:\n"
     ]
    }
   ],
   "source": [
    "import random\n",
    "lucky_num = random.randrange(0,10)\n",
    "Player_num = int(input(\"kindly input your lotto:\"))\n",
    "if Player_num == lucky_num:\n",
    "    print(\"congratulations, you have won!:\")\n",
    "else: \n",
    "    print(\"please try again:\")"
   ]
  },
  {
   "cell_type": "code",
   "execution_count": 1,
   "id": "eb2b7a50-d77e-48fa-8c25-97e38aa095de",
   "metadata": {},
   "outputs": [],
   "source": [
    "import random\n",
    "lucky_number = random.randrange(0,10)"
   ]
  },
  {
   "cell_type": "code",
   "execution_count": 3,
   "id": "7aca29da-f8f6-4a0e-aced-085166647ef1",
   "metadata": {},
   "outputs": [
    {
     "data": {
      "text/plain": [
       "2"
      ]
     },
     "execution_count": 3,
     "metadata": {},
     "output_type": "execute_result"
    }
   ],
   "source": [
    "lucky_number"
   ]
  },
  {
   "cell_type": "code",
   "execution_count": 7,
   "id": "2b6c4efa-ed39-47e0-8a26-bd4f6142088f",
   "metadata": {},
   "outputs": [
    {
     "name": "stdin",
     "output_type": "stream",
     "text": [
      "choose a number 4\n"
     ]
    },
    {
     "name": "stdout",
     "output_type": "stream",
     "text": [
      "sorry, try again:\n"
     ]
    }
   ],
   "source": [
    "import random\n",
    "lucky_number = random.randrange(0,10)\n",
    "player_number = int(input(\"choose a number\"))\n",
    "if player_number == lucky_number:\n",
    "    print(\"you are a winner!:\")\n",
    "else:\n",
    "    print(\"sorry, try again:\")"
   ]
  },
  {
   "cell_type": "code",
   "execution_count": 13,
   "id": "0dfed240-bace-4d18-9851-7c6f9ab2bf55",
   "metadata": {},
   "outputs": [
    {
     "name": "stdin",
     "output_type": "stream",
     "text": [
      "pick 25\n"
     ]
    },
    {
     "name": "stdout",
     "output_type": "stream",
     "text": [
      "na who give up, fuck up\n"
     ]
    }
   ],
   "source": [
    "lucky_number = random.randrange(5,20)\n",
    "player_num = int(input(\"pick\"))\n",
    "if player_num == lucky_number:\n",
    "    print(\"lets gooooo:\")\n",
    "else:\n",
    "    print(\"na who give up, fuck up\")"
   ]
  },
  {
   "cell_type": "code",
   "execution_count": 10,
   "id": "bc472dab-dd3a-46ed-93ba-839434ffb467",
   "metadata": {},
   "outputs": [
    {
     "data": {
      "text/plain": [
       "3"
      ]
     },
     "execution_count": 10,
     "metadata": {},
     "output_type": "execute_result"
    }
   ],
   "source": [
    "random.randrange(1,10)"
   ]
  },
  {
   "cell_type": "code",
   "execution_count": 25,
   "id": "466b69ee-d128-4aca-937f-4ccdcd4d3c6c",
   "metadata": {},
   "outputs": [
    {
     "name": "stdin",
     "output_type": "stream",
     "text": [
      "choose 4\n"
     ]
    },
    {
     "name": "stdout",
     "output_type": "stream",
     "text": [
      "no\n"
     ]
    }
   ],
   "source": [
    "l_n=random.randrange(2,5)\n",
    "p_n=input(\"choose\")\n",
    "if p_n==l_n:\n",
    "    print(\"won\")\n",
    "else:\n",
    "    print(\"no\")"
   ]
  },
  {
   "cell_type": "code",
   "execution_count": 2,
   "id": "745cc933-d8f2-4484-9d8a-17ab6982f8dc",
   "metadata": {},
   "outputs": [
    {
     "name": "stdin",
     "output_type": "stream",
     "text": [
      "your birth year 1997\n"
     ]
    },
    {
     "name": "stdout",
     "output_type": "stream",
     "text": [
      "27\n"
     ]
    }
   ],
   "source": [
    "birth_year = input(\"your birth year\")\n",
    "age = 2024 -int(birth_year)\n",
    "print(age)"
   ]
  },
  {
   "cell_type": "code",
   "execution_count": 5,
   "id": "49d55d45-18f3-4960-8c21-03bd97a43945",
   "metadata": {},
   "outputs": [
    {
     "name": "stdout",
     "output_type": "stream",
     "text": [
      "30.1\n"
     ]
    }
   ],
   "source": [
    "x = 10.1\n",
    "y = 20\n",
    "sum = float(x) + int(y)\n",
    "print(sum)"
   ]
  },
  {
   "cell_type": "code",
   "execution_count": 7,
   "id": "0db0b570-9117-4004-981b-13e29e1d24d5",
   "metadata": {},
   "outputs": [
    {
     "name": "stdout",
     "output_type": "stream",
     "text": [
      "PYTHON FOR BEGINNERS\n"
     ]
    }
   ],
   "source": [
    "course = \"python for beginners\"\n",
    "print(course.upper())"
   ]
  },
  {
   "cell_type": "raw",
   "id": "d6cf2474-9050-4632-bbd8-226a70717101",
   "metadata": {},
   "source": [
    "Data Structures\n",
    "-List is a square bracket. it is changeable, allows duplicate, ordered.\n",
    "-Tuple is ordered, unchangeable, allows duplicate.\n",
    "-Set is unordered, unchangeable and unindexed, no duplicate member\n",
    "-Dictionary is ordered, changeable, no duplicate member\n",
    "pandas\n",
    "string methods\n",
    "pip install nbclassic\n",
    "jupyter nbclassic\n",
    "\"change\""
   ]
  },
  {
   "cell_type": "code",
   "execution_count": 2,
   "id": "585629fb-9cd4-4c3d-a5fa-6621a23cece5",
   "metadata": {},
   "outputs": [],
   "source": [
    "my_list = [\"ruth\", \"donald\", \"dominion\", \"emeka\", \"feranmi\", 12, \"sandra\"]"
   ]
  },
  {
   "cell_type": "code",
   "execution_count": 3,
   "id": "3391c148-b8e7-4f49-a7ee-de3f81bb2ec7",
   "metadata": {},
   "outputs": [
    {
     "data": {
      "text/plain": [
       "list"
      ]
     },
     "execution_count": 3,
     "metadata": {},
     "output_type": "execute_result"
    }
   ],
   "source": [
    "type(my_list)"
   ]
  },
  {
   "cell_type": "code",
   "execution_count": 13,
   "id": "8f690aad-fd09-4887-8cb4-3ee9525f9fda",
   "metadata": {},
   "outputs": [
    {
     "data": {
      "text/plain": [
       "6"
      ]
     },
     "execution_count": 13,
     "metadata": {},
     "output_type": "execute_result"
    }
   ],
   "source": [
    "len(my_list[1])"
   ]
  },
  {
   "cell_type": "code",
   "execution_count": null,
   "id": "76566497-1ead-48d0-b2d3-cf5d1008a477",
   "metadata": {},
   "outputs": [],
   "source": [
    "my_list[(len(my_list)-1)]"
   ]
  },
  {
   "cell_type": "code",
   "execution_count": 14,
   "id": "be7c17bb-31fe-4d45-951e-c6cc442b1c03",
   "metadata": {},
   "outputs": [],
   "source": [
    "my_items = [[\"orange\",\"banana\"], [\"car\",\"house\"], [\"laptop\", \"phone\"], \"sandra\", 50]"
   ]
  },
  {
   "cell_type": "code",
   "execution_count": 15,
   "id": "62decf27-cba8-4382-954f-11adb2d250a0",
   "metadata": {},
   "outputs": [
    {
     "data": {
      "text/plain": [
       "list"
      ]
     },
     "execution_count": 15,
     "metadata": {},
     "output_type": "execute_result"
    }
   ],
   "source": [
    "type(my_items)"
   ]
  },
  {
   "cell_type": "code",
   "execution_count": 16,
   "id": "1ef3f790-0b2b-45cb-a744-0ee3836d36ab",
   "metadata": {},
   "outputs": [
    {
     "data": {
      "text/plain": [
       "['orange', 'banana']"
      ]
     },
     "execution_count": 16,
     "metadata": {},
     "output_type": "execute_result"
    }
   ],
   "source": [
    "my_items[0]"
   ]
  },
  {
   "cell_type": "code",
   "execution_count": null,
   "id": "fbbfb569-772b-44bf-8ca2-5cdea5ed55b3",
   "metadata": {},
   "outputs": [],
   "source": [
    "import random\n",
    "x = random.randrange(my_items)\n",
    "print(x)"
   ]
  },
  {
   "cell_type": "code",
   "execution_count": null,
   "id": "b645f318-4e3b-4d73-98a5-4e62d880d302",
   "metadata": {},
   "outputs": [],
   "source": []
  },
  {
   "cell_type": "code",
   "execution_count": 32,
   "id": "863cfb6d-2bae-4fb7-950b-31980f9c7b4f",
   "metadata": {},
   "outputs": [
    {
     "data": {
      "text/plain": [
       "['ruth', 'donald', 'dominion', 'emeka', 'feranmi', 12, 'sandra']"
      ]
     },
     "execution_count": 32,
     "metadata": {},
     "output_type": "execute_result"
    }
   ],
   "source": [
    "my_list"
   ]
  },
  {
   "cell_type": "code",
   "execution_count": 34,
   "id": "46964e3d-67b0-47a8-9bdd-04fbb17e5964",
   "metadata": {},
   "outputs": [],
   "source": [
    "my_list[3] = \"ebuka\""
   ]
  },
  {
   "cell_type": "code",
   "execution_count": 35,
   "id": "c2f57894-4ba2-4336-99ba-72b099417991",
   "metadata": {},
   "outputs": [
    {
     "data": {
      "text/plain": [
       "['ruth', 'donald', 'dominion', 'ebuka', 'feranmi', 12, 'sandra']"
      ]
     },
     "execution_count": 35,
     "metadata": {},
     "output_type": "execute_result"
    }
   ],
   "source": [
    "my_list"
   ]
  },
  {
   "cell_type": "code",
   "execution_count": 53,
   "id": "cd41b7db-a037-4ed4-bf9a-337fede252f8",
   "metadata": {},
   "outputs": [],
   "source": [
    "my_list.insert(2, \"oladele\")"
   ]
  },
  {
   "cell_type": "code",
   "execution_count": 58,
   "id": "9fe838fd-5a40-4cac-afd9-9c2592f0b21d",
   "metadata": {},
   "outputs": [
    {
     "name": "stdout",
     "output_type": "stream",
     "text": [
      "['ruth', 'donald', 'oladele', 'oladele', 'DOMINION', 'EBUKA', 'p', 'e', 'r', '(', ')', 'feranmi', 12, 'sandra', ['orange', 'banana'], ['car', 'house'], ['laptop', 'phone'], 'sandra', 50]\n"
     ]
    }
   ],
   "source": [
    "print(my_list)"
   ]
  },
  {
   "cell_type": "markdown",
   "id": "fc2b3086-2b44-4b63-915d-cdc1e6ceb4e8",
   "metadata": {},
   "source": [
    "append will add into a list to the last position"
   ]
  },
  {
   "cell_type": "code",
   "execution_count": 55,
   "id": "cf4bde33-23bd-4ce0-a06a-708f7ade2307",
   "metadata": {},
   "outputs": [],
   "source": [
    "my_list.extend(my_items)"
   ]
  },
  {
   "cell_type": "code",
   "execution_count": 59,
   "id": "76b0c402-7342-4c41-9b1f-bf8df81390ea",
   "metadata": {},
   "outputs": [
    {
     "name": "stdout",
     "output_type": "stream",
     "text": [
      "['ruth', 'donald', 'oladele', 'oladele', 'DOMINION', 'EBUKA', 'p', 'e', 'r', '(', ')', 'feranmi', 12, 'sandra', ['orange', 'banana'], ['car', 'house'], ['laptop', 'phone'], 'sandra', 50]\n"
     ]
    }
   ],
   "source": [
    "print(my_list)"
   ]
  },
  {
   "cell_type": "code",
   "execution_count": 60,
   "id": "831bb71e-798d-40fe-b242-1fac81d9085e",
   "metadata": {},
   "outputs": [],
   "source": [
    "tropical = (\"mango\", \"banana\", \"orange\", \"apple\")"
   ]
  },
  {
   "cell_type": "code",
   "execution_count": 63,
   "id": "8dda2a42-5be6-4a3a-8921-574472ffcde7",
   "metadata": {},
   "outputs": [],
   "source": [
    "my_list.extend(tropical)"
   ]
  },
  {
   "cell_type": "code",
   "execution_count": 66,
   "id": "303e83b3-b20b-418a-a08f-d6674cadaff4",
   "metadata": {},
   "outputs": [
    {
     "name": "stdout",
     "output_type": "stream",
     "text": [
      "['ruth', 'donald', 'oladele', 'oladele', 'DOMINION', 'EBUKA', 'p', 'e', 'r', '(', ')', 'feranmi', 12, 'sandra', ['orange', 'banana'], ['car', 'house'], ['laptop', 'phone'], 'sandra', 50, 'mango', 'banana', 'orange', 'apple', 'mango', 'banana', 'orange', 'apple']\n"
     ]
    }
   ],
   "source": [
    "print(my_list)"
   ]
  },
  {
   "cell_type": "code",
   "execution_count": 75,
   "id": "491adaad-380c-4e2e-a6f4-98845601b8e3",
   "metadata": {},
   "outputs": [
    {
     "data": {
      "text/plain": [
       "'e'"
      ]
     },
     "execution_count": 75,
     "metadata": {},
     "output_type": "execute_result"
    }
   ],
   "source": [
    "my_list.pop(6)"
   ]
  },
  {
   "cell_type": "code",
   "execution_count": 77,
   "id": "fd6818ee-9cb0-4684-9771-7daacc587bec",
   "metadata": {},
   "outputs": [
    {
     "name": "stdout",
     "output_type": "stream",
     "text": [
      "['ruth', 'donald', 'oladele', 'oladele', 'DOMINION', 'EBUKA', 'r', '(', ')', 'feranmi', 12, 'sandra', ['orange', 'banana'], ['car', 'house'], ['laptop', 'phone'], 'sandra', 50, 'mango', 'banana', 'orange', 'apple', 'mango', 'banana', 'orange', 'apple']\n"
     ]
    }
   ],
   "source": [
    "print(my_list)"
   ]
  },
  {
   "cell_type": "code",
   "execution_count": 80,
   "id": "d30c142d-5889-443b-b98d-f210be3c9965",
   "metadata": {},
   "outputs": [],
   "source": [
    "del my_list[6:10]"
   ]
  },
  {
   "cell_type": "code",
   "execution_count": 82,
   "id": "934c4170-1e8a-4229-b4c7-90828eaf6bdf",
   "metadata": {},
   "outputs": [
    {
     "name": "stdout",
     "output_type": "stream",
     "text": [
      "['ruth', 'donald', 'oladele', 'oladele', 'DOMINION', 'EBUKA', 12, 'sandra', ['orange', 'banana'], ['car', 'house'], ['laptop', 'phone'], 'sandra', 50, 'mango', 'banana', 'orange', 'apple', 'mango', 'banana', 'orange', 'apple']\n"
     ]
    }
   ],
   "source": [
    "print(my_list)"
   ]
  },
  {
   "cell_type": "code",
   "execution_count": 85,
   "id": "c90ae8a6-94a2-4c93-8f41-bd08d31245ee",
   "metadata": {},
   "outputs": [],
   "source": [
    "my_list.remove(12)"
   ]
  },
  {
   "cell_type": "code",
   "execution_count": 93,
   "id": "a6509971-3ee4-45fa-a069-0749c4090a3c",
   "metadata": {},
   "outputs": [
    {
     "name": "stdout",
     "output_type": "stream",
     "text": [
      "['ruth', 'donald', 'oladele', 'oladele', 'DOMINION', 'EBUKA', 'sandra', ['orange', 'banana'], ['car', 'house'], ['laptop', 'phone'], 'sandra', 50, 'mango', 'banana', 'orange', 'apple', 'mango', 'banana', 'orange', 'apple']\n"
     ]
    }
   ],
   "source": [
    "print (my_list)"
   ]
  },
  {
   "cell_type": "code",
   "execution_count": 89,
   "id": "debb56d0-df40-4da1-8f18-57abc803d9c6",
   "metadata": {},
   "outputs": [
    {
     "data": {
      "text/plain": [
       "[['orange', 'banana'], ['car', 'house'], ['laptop', 'phone'], 'sandra', 50]"
      ]
     },
     "execution_count": 89,
     "metadata": {},
     "output_type": "execute_result"
    }
   ],
   "source": [
    "my_items"
   ]
  },
  {
   "cell_type": "code",
   "execution_count": 91,
   "id": "161accdd-83ae-4a0c-89b9-369e76375976",
   "metadata": {},
   "outputs": [],
   "source": [
    "my_items.clear()"
   ]
  },
  {
   "cell_type": "code",
   "execution_count": 92,
   "id": "029d3471-bd37-4370-ab2b-989c2492c52d",
   "metadata": {},
   "outputs": [
    {
     "data": {
      "text/plain": [
       "[]"
      ]
     },
     "execution_count": 92,
     "metadata": {},
     "output_type": "execute_result"
    }
   ],
   "source": [
    "my_items"
   ]
  },
  {
   "cell_type": "code",
   "execution_count": 7,
   "id": "96efee86-c7d8-4d94-bd6d-f8fa852db284",
   "metadata": {},
   "outputs": [
    {
     "name": "stdin",
     "output_type": "stream",
     "text": [
      "enter the price of a fruit in fruits: $ 6\n"
     ]
    }
   ],
   "source": [
    "fruits = [(\"apple\"), (\"orange\"), (\"banana\"), (\"pineapple\")]\n",
    "prices = (input(f\"enter the price of a fruit in fruits: $\"))"
   ]
  },
  {
   "cell_type": "code",
   "execution_count": 8,
   "id": "d12f8f94-111d-4033-80aa-8b68914230ad",
   "metadata": {},
   "outputs": [
    {
     "data": {
      "text/plain": [
       "4"
      ]
     },
     "execution_count": 8,
     "metadata": {},
     "output_type": "execute_result"
    }
   ],
   "source": [
    "fruits = [(\"apple\",3.50), (\"orange\",3.10), (\"banana\",4.50), (\"pineapple\",5.00)]\n",
    "len(fruits)"
   ]
  },
  {
   "cell_type": "code",
   "execution_count": 9,
   "id": "07d5108b-60d1-401d-b315-c2e443259de2",
   "metadata": {},
   "outputs": [
    {
     "name": "stdout",
     "output_type": "stream",
     "text": [
      "total no of fruits: [('apple', 3.5), ('orange', 3.1), ('banana', 4.5), ('pineapple', 5.0)]\n"
     ]
    }
   ],
   "source": [
    "print(f\"total no of fruits: {fruits}\")"
   ]
  },
  {
   "cell_type": "code",
   "execution_count": 10,
   "id": "5e388c6d-ff9e-467d-830b-d59a1dd55f5b",
   "metadata": {},
   "outputs": [
    {
     "name": "stdout",
     "output_type": "stream",
     "text": [
      "apple: $3.5\n",
      "orange: $3.1\n",
      "banana: $4.5\n",
      "pineapple: $5.0\n"
     ]
    }
   ],
   "source": [
    "for fruit, price in fruits:\n",
    "    print(f\"{fruit}: ${price}\")"
   ]
  },
  {
   "cell_type": "code",
   "execution_count": 16,
   "id": "dba61a64-c1d8-44db-a5be-bf84412b0db9",
   "metadata": {},
   "outputs": [],
   "source": [
    "import pandas as pd"
   ]
  },
  {
   "cell_type": "code",
   "execution_count": null,
   "id": "7690693f-8698-407c-89cf-477e903bb46a",
   "metadata": {},
   "outputs": [],
   "source": [
    "my_data = pd.dataframe(my_list, column"
   ]
  },
  {
   "cell_type": "code",
   "execution_count": 26,
   "id": "4dbbaeb9-b4ad-4d6f-9135-6c722a0bae10",
   "metadata": {},
   "outputs": [],
   "source": [
    "fruits = [\"apple\", \"orange\", \"banana\", \"pineapple\"]\n",
    "newlist = []\n",
    "for x in fruits:\n",
    "    if \"p\" in x:\n",
    "        newlist.append(x)"
   ]
  },
  {
   "cell_type": "code",
   "execution_count": 27,
   "id": "13a288be-1d4f-4954-a5bc-0b8a415e0a27",
   "metadata": {},
   "outputs": [
    {
     "data": {
      "text/plain": [
       "['apple', 'pineapple']"
      ]
     },
     "execution_count": 27,
     "metadata": {},
     "output_type": "execute_result"
    }
   ],
   "source": [
    "newlist"
   ]
  },
  {
   "cell_type": "code",
   "execution_count": 30,
   "id": "8b1d23ff-8fa4-4ce4-ad64-de787a538465",
   "metadata": {},
   "outputs": [
    {
     "data": {
      "text/plain": [
       "['apple', 'orange', 'banana', 'pineapple']"
      ]
     },
     "execution_count": 30,
     "metadata": {},
     "output_type": "execute_result"
    }
   ],
   "source": [
    "fruits"
   ]
  },
  {
   "cell_type": "code",
   "execution_count": 31,
   "id": "4ed69af5-419f-478b-b124-baa8e5125a9c",
   "metadata": {},
   "outputs": [],
   "source": [
    "my_tuple = fruits"
   ]
  },
  {
   "cell_type": "code",
   "execution_count": 32,
   "id": "5a3c2f01-97df-4322-bc0b-7f75deba3f3f",
   "metadata": {},
   "outputs": [
    {
     "data": {
      "text/plain": [
       "['apple', 'orange', 'banana', 'pineapple']"
      ]
     },
     "execution_count": 32,
     "metadata": {},
     "output_type": "execute_result"
    }
   ],
   "source": [
    "my_tuple"
   ]
  },
  {
   "cell_type": "code",
   "execution_count": null,
   "id": "8ab9a567-70cc-4cee-be4f-13f6b11486e4",
   "metadata": {},
   "outputs": [],
   "source": [
    "fruits1 = list(my_tuple)"
   ]
  },
  {
   "cell_type": "code",
   "execution_count": 37,
   "id": "10373dff-86d0-4861-83c2-2b8bab4a9621",
   "metadata": {},
   "outputs": [],
   "source": [
    "thisdict = {\"brand\":\"ford\", \"model\":\"mustang\", \"year\": 1964, \"year\": 2020, \"year\": 1960}"
   ]
  },
  {
   "cell_type": "code",
   "execution_count": 38,
   "id": "6ad0c1aa-e086-4eaf-8227-c561b9faa100",
   "metadata": {},
   "outputs": [
    {
     "data": {
      "text/plain": [
       "{'brand': 'ford', 'model': 'mustang', 'year': 1960}"
      ]
     },
     "execution_count": 38,
     "metadata": {},
     "output_type": "execute_result"
    }
   ],
   "source": [
    "thisdict"
   ]
  },
  {
   "cell_type": "code",
   "execution_count": 43,
   "id": "763ce192-fa57-4297-b34c-42762675cd30",
   "metadata": {},
   "outputs": [
    {
     "data": {
      "text/plain": [
       "'mustang'"
      ]
     },
     "execution_count": 43,
     "metadata": {},
     "output_type": "execute_result"
    }
   ],
   "source": [
    "thisdict[\"model\"]"
   ]
  },
  {
   "cell_type": "code",
   "execution_count": 46,
   "id": "2cc013aa-b9fb-443f-95be-43ed0206553f",
   "metadata": {},
   "outputs": [
    {
     "data": {
      "text/plain": [
       "dict_values(['ford', 'mustang', 1960])"
      ]
     },
     "execution_count": 46,
     "metadata": {},
     "output_type": "execute_result"
    }
   ],
   "source": [
    "thisdict.values()"
   ]
  },
  {
   "cell_type": "code",
   "execution_count": 47,
   "id": "99cf7371-2c5b-47ed-86db-0e0dbb36fb03",
   "metadata": {},
   "outputs": [
    {
     "data": {
      "text/plain": [
       "{'brand': 'ford', 'model': 'mustang', 'year': 2024}"
      ]
     },
     "execution_count": 47,
     "metadata": {},
     "output_type": "execute_result"
    }
   ],
   "source": [
    "thisdict[\"year\"]=2024\n",
    "thisdict"
   ]
  },
  {
   "cell_type": "code",
   "execution_count": 49,
   "id": "e559b419-b5ef-4e45-ab4b-68e471a9b86e",
   "metadata": {},
   "outputs": [],
   "source": [
    "thisdict.update({\"color\":\"red\"})"
   ]
  },
  {
   "cell_type": "code",
   "execution_count": 50,
   "id": "f3ec1aad-d914-4728-a613-cd293c60e0e0",
   "metadata": {},
   "outputs": [
    {
     "data": {
      "text/plain": [
       "{'brand': 'ford', 'model': 'mustang', 'year': 2024, 'color': 'red'}"
      ]
     },
     "execution_count": 50,
     "metadata": {},
     "output_type": "execute_result"
    }
   ],
   "source": [
    "thisdict"
   ]
  },
  {
   "cell_type": "markdown",
   "id": "4fd21633-4648-4309-8e13-5967f4f51fe8",
   "metadata": {},
   "source": [
    "GITHUB"
   ]
  },
  {
   "cell_type": "code",
   "execution_count": 3,
   "id": "723c274a-803b-445f-a343-1324db51c317",
   "metadata": {},
   "outputs": [
    {
     "data": {
      "text/plain": [
       "{'ebuka': 90, 'faith': 80, 'elon': 87, 'gilmore': 95, 'trump': 79}"
      ]
     },
     "execution_count": 3,
     "metadata": {},
     "output_type": "execute_result"
    }
   ],
   "source": [
    "students_scores = {\"ebuka\": 90, \"faith\": 80, \"elon\": 87, \"gilmore\": 95, \"trump\": 79}\n",
    "students_scores"
   ]
  },
  {
   "cell_type": "code",
   "execution_count": 71,
   "id": "f279ed87-bb55-4952-aebc-4c41e5d9869b",
   "metadata": {},
   "outputs": [],
   "source": [
    "#for name, score in students_scores:\n",
    "    "
   ]
  },
  {
   "cell_type": "code",
   "execution_count": 4,
   "id": "8d9348ba-1e5e-4912-9194-da3954bf4db7",
   "metadata": {},
   "outputs": [
    {
     "name": "stdin",
     "output_type": "stream",
     "text": [
      "Please input student name:  ebuka\n"
     ]
    },
    {
     "data": {
      "text/plain": [
       "90"
      ]
     },
     "execution_count": 4,
     "metadata": {},
     "output_type": "execute_result"
    }
   ],
   "source": [
    "students_scores[input(\"Please input student name: \")]"
   ]
  },
  {
   "cell_type": "code",
   "execution_count": 5,
   "id": "b7b91dc5-6ac7-492b-94fa-547fa4f73034",
   "metadata": {},
   "outputs": [
    {
     "name": "stdin",
     "output_type": "stream",
     "text": [
      "Please input student name:  elon\n"
     ]
    },
    {
     "data": {
      "text/plain": [
       "'elon'"
      ]
     },
     "execution_count": 5,
     "metadata": {},
     "output_type": "execute_result"
    }
   ],
   "source": [
    "input(\"Please input student name: \") "
   ]
  },
  {
   "cell_type": "code",
   "execution_count": 6,
   "id": "05a479c1-cc31-434c-88e1-0083a2c839e3",
   "metadata": {},
   "outputs": [
    {
     "data": {
      "text/plain": [
       "dict_values([90, 80, 87, 95, 79])"
      ]
     },
     "execution_count": 6,
     "metadata": {},
     "output_type": "execute_result"
    }
   ],
   "source": [
    "scores = students_scores.values()\n",
    "scores"
   ]
  },
  {
   "cell_type": "code",
   "execution_count": 7,
   "id": "18cfceb1-7628-4fbb-b430-66f7c8fc6fbd",
   "metadata": {},
   "outputs": [
    {
     "data": {
      "text/plain": [
       "431"
      ]
     },
     "execution_count": 7,
     "metadata": {},
     "output_type": "execute_result"
    }
   ],
   "source": [
    "sum(scores)"
   ]
  },
  {
   "cell_type": "code",
   "execution_count": 10,
   "id": "d88ca294-11d5-4ff7-b32c-6561b2030e57",
   "metadata": {},
   "outputs": [
    {
     "data": {
      "text/plain": [
       "5"
      ]
     },
     "execution_count": 10,
     "metadata": {},
     "output_type": "execute_result"
    }
   ],
   "source": [
    "len(scores)"
   ]
  },
  {
   "cell_type": "code",
   "execution_count": 40,
   "id": "7d811d92-d2c7-462b-94a2-3d866df12693",
   "metadata": {},
   "outputs": [],
   "source": [
    "invited_guest = {'mike', 'ribery', 'olmo', 'jessy', 'gbemiga', 'ore', 'esther', 'ebuka', 'jacklyn', 'jessica', 'jenny', 'mary', 'ruth'}\n",
    "arrived = []\n",
    "for guest in invited_guest:\n",
    "    if ('e') in guest:\n",
    "         arrived.append(guest)"
   ]
  },
  {
   "cell_type": "code",
   "execution_count": 41,
   "id": "30f7222c-cf64-4926-ae4d-0577939e647f",
   "metadata": {},
   "outputs": [
    {
     "data": {
      "text/plain": [
       "['mike',\n",
       " 'jessica',\n",
       " 'esther',\n",
       " 'jessy',\n",
       " 'jenny',\n",
       " 'gbemiga',\n",
       " 'ore',\n",
       " 'ribery',\n",
       " 'ebuka']"
      ]
     },
     "execution_count": 41,
     "metadata": {},
     "output_type": "execute_result"
    }
   ],
   "source": [
    "arrived"
   ]
  },
  {
   "cell_type": "code",
   "execution_count": 37,
   "id": "9329c080-fabb-4e3e-ac4a-11480b4064e5",
   "metadata": {},
   "outputs": [
    {
     "name": "stdin",
     "output_type": "stream",
     "text": [
      "please guest name ruth\n"
     ]
    }
   ],
   "source": [
    "invited_guest = [input('please guest name')]"
   ]
  },
  {
   "cell_type": "code",
   "execution_count": 57,
   "id": "216de223-e575-4ba5-a6f5-4bc00fbf22a0",
   "metadata": {},
   "outputs": [],
   "source": [
    "##KNOW: FUNCTIONS, BOOLEAN"
   ]
  },
  {
   "cell_type": "code",
   "execution_count": 63,
   "id": "a7b9f485-463a-4e33-9230-3624f4680151",
   "metadata": {},
   "outputs": [
    {
     "data": {
      "text/plain": [
       "set"
      ]
     },
     "execution_count": 63,
     "metadata": {},
     "output_type": "execute_result"
    }
   ],
   "source": [
    "a =set()\n",
    "type(a)"
   ]
  },
  {
   "cell_type": "code",
   "execution_count": 114,
   "id": "b3ac158f-9fb2-42b1-aebd-8b92e4d84c3e",
   "metadata": {},
   "outputs": [],
   "source": [
    "def magic():\n",
    "    number = int(input('num'))\n",
    "    if number%2 == 0:\n",
    "        print(\"is even\")\n",
    "    else:\n",
    "        print(\"is odd\")"
   ]
  },
  {
   "cell_type": "code",
   "execution_count": 115,
   "id": "664725c0-b2e2-40f9-8a32-6f9ee4486be2",
   "metadata": {},
   "outputs": [
    {
     "name": "stdin",
     "output_type": "stream",
     "text": [
      "num 45\n"
     ]
    },
    {
     "name": "stdout",
     "output_type": "stream",
     "text": [
      "is odd\n"
     ]
    }
   ],
   "source": [
    "magic()"
   ]
  },
  {
   "cell_type": "code",
   "execution_count": 117,
   "id": "69d47925-7c3e-4f20-b4b2-1f9d0f38aaf9",
   "metadata": {},
   "outputs": [],
   "source": [
    "def prime():\n",
    "    number = int(input('num'))\n",
    "    if number/number == 1:\n",
    "        print('is prime')\n",
    "    else:\n",
    "        print('is an intruder')"
   ]
  },
  {
   "cell_type": "raw",
   "id": "a1148aa0-78e9-418a-aa28-588174bb3f90",
   "metadata": {},
   "source": [
    "prime()"
   ]
  },
  {
   "cell_type": "code",
   "execution_count": 118,
   "id": "583138c4-f98a-4ddf-986f-90235b95fcfb",
   "metadata": {},
   "outputs": [],
   "source": [
    "### ASCII"
   ]
  },
  {
   "cell_type": "code",
   "execution_count": null,
   "id": "b8b1b041-e3f1-4d8f-a650-2d2faf9f3a2e",
   "metadata": {},
   "outputs": [],
   "source": []
  },
  {
   "cell_type": "code",
   "execution_count": 70,
   "id": "2ec1ea52-f92f-4821-b9e7-4907b8ee4bc7",
   "metadata": {},
   "outputs": [
    {
     "name": "stdout",
     "output_type": "stream",
     "text": [
      "input guest name and type finished when you are done\n"
     ]
    },
    {
     "name": "stdin",
     "output_type": "stream",
     "text": [
      "kindly input the guest name:  mike\n",
      "kindly input the guest name:  ebuka\n",
      "kindly input the guest name:  jessica\n",
      "kindly input the guest name:  jennifer\n"
     ]
    },
    {
     "name": "stdout",
     "output_type": "stream",
     "text": [
      "not invited\n"
     ]
    },
    {
     "name": "stdin",
     "output_type": "stream",
     "text": [
      "kindly input the guest name:  jennyy\n"
     ]
    },
    {
     "name": "stdout",
     "output_type": "stream",
     "text": [
      "not invited\n"
     ]
    },
    {
     "name": "stdin",
     "output_type": "stream",
     "text": [
      "kindly input the guest name:  done\n"
     ]
    },
    {
     "name": "stdout",
     "output_type": "stream",
     "text": [
      "not invited\n"
     ]
    }
   ],
   "source": [
    "def guest_checker():\n",
    "    invited_guests = {'mike', 'ribery', 'olmo', 'jessy', 'gbemiga', 'ore', 'esther', 'ebuka', 'jacklyn', 'jessica', 'jenny', 'mary', 'ruth'}\n",
    "    arrived_guests = set()\n",
    "    print(\"input guest name and type finished when you are done\")\n",
    "    while True:\n",
    "        name = input(\"kindly input the guest name: \")\n",
    "        if name in invited_guests:\n",
    "            arrived_guests.add(name)\n",
    "        elif name not in invited_guests:\n",
    "            print(\"not invited\")\n",
    "        if name == \"done\":\n",
    "            break\n",
    "guest_checker()"
   ]
  },
  {
   "cell_type": "code",
   "execution_count": null,
   "id": "57d620d4-8338-4559-b4ac-2ddb36bf6234",
   "metadata": {},
   "outputs": [],
   "source": []
  },
  {
   "cell_type": "code",
   "execution_count": 65,
   "id": "cccb60b2-f3d2-485e-abae-c952c3952859",
   "metadata": {},
   "outputs": [
    {
     "name": "stdin",
     "output_type": "stream",
     "text": [
      "kindly input the guest name(done to quit):  mike\n",
      "kindly input the guest name(done to quit):  olmo\n",
      "kindly input the guest name(done to quit):  danny\n"
     ]
    },
    {
     "name": "stdout",
     "output_type": "stream",
     "text": [
      "not invited\n"
     ]
    },
    {
     "name": "stdin",
     "output_type": "stream",
     "text": [
      "kindly input the guest name(done to quit):  gbemiga\n",
      "kindly input the guest name(done to quit):  ebuka\n",
      "kindly input the guest name(done to quit):  done\n"
     ]
    },
    {
     "name": "stdout",
     "output_type": "stream",
     "text": [
      "not invited\n",
      "The invited guests are:\n",
      "ebuka\n",
      "gbemiga\n",
      "mike\n",
      "olmo\n"
     ]
    }
   ],
   "source": [
    "invited_guests =  {'mike', 'ribery', 'olmo', 'jessy', 'gbemiga', 'ore', 'esther', 'ebuka', 'jacklyn', 'jessica', 'jenny', 'mary', 'ruth'}\n",
    "arrived_guests = set()\n",
    "while True:\n",
    "    name = input(\"kindly input the guest name(done to quit): \")\n",
    "    if name in invited_guests:\n",
    "        arrived_guests.add(name)\n",
    "    elif name not in invited_guests:\n",
    "        print(\"not invited\")\n",
    "    if name == \"done\":\n",
    "        break\n",
    "print(\"The invited guests are:\")\n",
    "for name in arrived_guests:\n",
    "    print(name)"
   ]
  },
  {
   "cell_type": "code",
   "execution_count": 1,
   "id": "9be7dccd-448f-4e77-9ac4-453561868c2b",
   "metadata": {},
   "outputs": [
    {
     "name": "stdout",
     "output_type": "stream",
     "text": [
      "Prime numbers between 1 and 100: [2, 3, 5, 7, 11, 13, 17, 19, 23, 29, 31, 37, 41, 43, 47, 53, 59, 61, 67, 71, 73, 79, 83, 89, 97]\n"
     ]
    }
   ],
   "source": [
    "# Function to check if a number is prime\n",
    "def is_prime(n):\n",
    "    if n <= 1:\n",
    "        return False\n",
    "    for i in range(2, int(n**0.5) + 1):\n",
    "        if n % i == 0:\n",
    "            return False\n",
    "    return True\n",
    "\n",
    "# List to store prime numbers\n",
    "prime_numbers = []\n",
    "\n",
    "# Loop through numbers 1 to 100\n",
    "for number in range(1, 101):\n",
    "    if is_prime(number):\n",
    "        prime_numbers.append(number)\n",
    "\n",
    "# Print the prime numbers\n",
    "print(\"Prime numbers between 1 and 100:\", prime_numbers)\n"
   ]
  },
  {
   "cell_type": "code",
   "execution_count": null,
   "id": "1214dede-5b87-43c7-ac5b-4c5de105df1f",
   "metadata": {},
   "outputs": [],
   "source": [
    "Prime numbers between 1 and 100:\n",
    "prime_numbers = []\n"
   ]
  },
  {
   "cell_type": "code",
   "execution_count": 11,
   "id": "bf9d2852-f6b0-4801-93d5-c4128ab22be2",
   "metadata": {},
   "outputs": [
    {
     "name": "stdout",
     "output_type": "stream",
     "text": [
      "['p', 'y', 't', 'h', 'o', 'n']\n"
     ]
    }
   ],
   "source": [
    "my_char = 'python'\n",
    "app = []\n",
    "for chars in my_char:\n",
    "    app.append(chars)\n",
    "print(app)"
   ]
  },
  {
   "cell_type": "code",
   "execution_count": null,
   "id": "a00d1032-57dc-400e-a1f3-40b15eb30eb2",
   "metadata": {},
   "outputs": [],
   "source": [
    "# for each"
   ]
  },
  {
   "cell_type": "code",
   "execution_count": 19,
   "id": "31699324-ece9-4861-af4c-982a8aacab17",
   "metadata": {},
   "outputs": [
    {
     "name": "stdout",
     "output_type": "stream",
     "text": [
      "['walked', 'talked', 'sited', 'looked', 'pucked']\n"
     ]
    }
   ],
   "source": [
    "p_t = ['walk', 'talk', 'sit', 'look', 'puck']\n",
    "past_t = []\n",
    "for i in p_t:\n",
    "    past_t.append(i +'ed')\n",
    "print(past_t)"
   ]
  },
  {
   "cell_type": "code",
   "execution_count": 34,
   "id": "22d5ad51-7806-40dc-8e1a-038406c21964",
   "metadata": {},
   "outputs": [
    {
     "name": "stdout",
     "output_type": "stream",
     "text": [
      "['30', '20', '40', '22', '66', '839', '34']\n"
     ]
    }
   ],
   "source": [
    "nums = '30 20 40 22 66 839 34'\n",
    "nums = nums.split()\n",
    "print(nums)"
   ]
  },
  {
   "cell_type": "code",
   "execution_count": 36,
   "id": "b66d52fb-97e5-4f99-ad20-1faf8f339932",
   "metadata": {},
   "outputs": [],
   "source": [
    "nums_int = []\n",
    "for i in nums:\n",
    "    nums_int.append(int(i))\n",
    "newzy = nums_int"
   ]
  },
  {
   "cell_type": "code",
   "execution_count": 38,
   "id": "d0834d0d-309a-45e3-b578-7e97ea118015",
   "metadata": {},
   "outputs": [
    {
     "data": {
      "text/plain": [
       "[30, 20, 40, 22, 66, 839, 34]"
      ]
     },
     "execution_count": 38,
     "metadata": {},
     "output_type": "execute_result"
    }
   ],
   "source": [
    "newzy"
   ]
  },
  {
   "cell_type": "code",
   "execution_count": 39,
   "id": "84a7258c-1234-432e-90cc-bb25cb085bb9",
   "metadata": {},
   "outputs": [
    {
     "data": {
      "text/plain": [
       "1051"
      ]
     },
     "execution_count": 39,
     "metadata": {},
     "output_type": "execute_result"
    }
   ],
   "source": [
    "sum(newzy)"
   ]
  },
  {
   "cell_type": "code",
   "execution_count": 42,
   "id": "c35996c0-dc8a-43c1-9400-09647b7af3b4",
   "metadata": {},
   "outputs": [],
   "source": [
    "average = sum(newzy)/len(newzy)"
   ]
  },
  {
   "cell_type": "code",
   "execution_count": 43,
   "id": "b4f460c2-d1fc-4084-973c-86d526c2ab7e",
   "metadata": {},
   "outputs": [
    {
     "data": {
      "text/plain": [
       "150.14285714285714"
      ]
     },
     "execution_count": 43,
     "metadata": {},
     "output_type": "execute_result"
    }
   ],
   "source": [
    "average"
   ]
  },
  {
   "cell_type": "code",
   "execution_count": 2,
   "id": "add61996-4706-4152-9ab5-eddddd3a6f4f",
   "metadata": {},
   "outputs": [
    {
     "name": "stdout",
     "output_type": "stream",
     "text": [
      "['i', 'am', 'ebuka', 'and', 'this', 'year', 'would', 'be', 'good']\n"
     ]
    }
   ],
   "source": [
    "original_str = 'i am ebuka and this year would be good'\n",
    "original_str = original_str.split()\n",
    "print(original_str)"
   ]
  },
  {
   "cell_type": "code",
   "execution_count": 3,
   "id": "58120ff9-9a64-4096-82c7-afd6336e0f29",
   "metadata": {},
   "outputs": [
    {
     "data": {
      "text/plain": [
       "[1, 2, 5, 3, 4, 4, 5, 2, 4]"
      ]
     },
     "execution_count": 3,
     "metadata": {},
     "output_type": "execute_result"
    }
   ],
   "source": [
    "len_str =[]\n",
    "for i in original_str:\n",
    "    len_str.append(len(i))\n",
    "len_str"
   ]
  },
  {
   "cell_type": "code",
   "execution_count": 4,
   "id": "99064cf3-efa5-4de9-8a23-f5d2a5d66e18",
   "metadata": {},
   "outputs": [
    {
     "data": {
      "text/plain": [
       "['am', 'ebuka', 'and', 'year']"
      ]
     },
     "execution_count": 4,
     "metadata": {},
     "output_type": "execute_result"
    }
   ],
   "source": [
    "items_with_a = []\n",
    "for i in original_str:\n",
    "    if 'a' in i:\n",
    "        items_with_a.append(i)\n",
    "items_with_a"
   ]
  },
  {
   "cell_type": "code",
   "execution_count": 7,
   "id": "e3c4fcca-5ec1-4fb3-9dd6-ddad581322fb",
   "metadata": {},
   "outputs": [
    {
     "ename": "SyntaxError",
     "evalue": "incomplete input (3817199735.py, line 3)",
     "output_type": "error",
     "traceback": [
      "\u001b[1;36m  Cell \u001b[1;32mIn[7], line 3\u001b[1;36m\u001b[0m\n\u001b[1;33m    \u001b[0m\n\u001b[1;37m    ^\u001b[0m\n\u001b[1;31mSyntaxError\u001b[0m\u001b[1;31m:\u001b[0m incomplete input\n"
     ]
    }
   ],
   "source": [
    "items_with_a_i = []\n",
    "for i in original_str:\n",
    "    "
   ]
  },
  {
   "cell_type": "code",
   "execution_count": 58,
   "id": "f24a4fc7-6485-44f4-87a8-5cf157ef817b",
   "metadata": {},
   "outputs": [],
   "source": [
    "rainfall_mi = '1.30, 1.65, 2.05, 3.03, 3.35, 3.46, 2.83, 3.23, 3.5, 2.52, 2.8, 1.85'\n",
    "rainfall_mi = rainfall_mi.split(',')"
   ]
  },
  {
   "cell_type": "code",
   "execution_count": 51,
   "id": "33695b93-18f7-4d3d-87c7-7f0a0a441a80",
   "metadata": {},
   "outputs": [
    {
     "data": {
      "text/plain": [
       "['1.30',\n",
       " ' 1.65',\n",
       " ' 2.05',\n",
       " ' 3.03',\n",
       " ' 3.35',\n",
       " ' 3.46',\n",
       " ' 2.83',\n",
       " ' 3.23',\n",
       " ' 3.5',\n",
       " ' 2.52',\n",
       " ' 2.8',\n",
       " ' 1.85']"
      ]
     },
     "execution_count": 51,
     "metadata": {},
     "output_type": "execute_result"
    }
   ],
   "source": [
    "rainfall_mi"
   ]
  },
  {
   "cell_type": "code",
   "execution_count": 59,
   "id": "293e496b-f048-48ad-8e6f-6b8da92cf1b3",
   "metadata": {},
   "outputs": [
    {
     "data": {
      "text/plain": [
       "[1.3, 1.65, 2.05, 3.03, 3.35, 3.46, 2.83, 3.23, 3.5, 2.52, 2.8, 1.85]"
      ]
     },
     "execution_count": 59,
     "metadata": {},
     "output_type": "execute_result"
    }
   ],
   "source": [
    "rainfall_mi = [float(i) for i in rainfall_mi]\n",
    "rainfall_mi"
   ]
  },
  {
   "cell_type": "code",
   "execution_count": 62,
   "id": "2fc0de07-dbeb-4f14-bf4a-31deefc584f3",
   "metadata": {},
   "outputs": [
    {
     "data": {
      "text/plain": [
       "5"
      ]
     },
     "execution_count": 62,
     "metadata": {},
     "output_type": "execute_result"
    }
   ],
   "source": [
    "rainy_months = []\n",
    "for i in rainfall_mi:\n",
    "    if i>3:\n",
    "        rainy_months.append(i)\n",
    "len(rainy_months)"
   ]
  },
  {
   "cell_type": "code",
   "execution_count": 17,
   "id": "53229753-eda2-434f-b0ec-05f6ecf60972",
   "metadata": {},
   "outputs": [],
   "source": [
    "stopwords = ['to', 'a', 'for', 'by', 'an', 'am', 'the', 'so', 'it', 'and', 'The']\n",
    "org = 'The organisation for health, safety and education'"
   ]
  },
  {
   "cell_type": "code",
   "execution_count": 18,
   "id": "08cc3596-3cd2-4587-89b3-d024a2292e19",
   "metadata": {},
   "outputs": [
    {
     "data": {
      "text/plain": [
       "['The', 'organisation', 'for', 'health,', 'safety', 'and', 'education']"
      ]
     },
     "execution_count": 18,
     "metadata": {},
     "output_type": "execute_result"
    }
   ],
   "source": [
    "org = org.split()\n",
    "org"
   ]
  },
  {
   "cell_type": "code",
   "execution_count": 19,
   "id": "a77d9eb1-9363-4d08-9349-adeebeebb0b5",
   "metadata": {},
   "outputs": [
    {
     "data": {
      "text/plain": [
       "['organisation', 'health,', 'safety', 'education']"
      ]
     },
     "execution_count": 19,
     "metadata": {},
     "output_type": "execute_result"
    }
   ],
   "source": [
    "keywords = []\n",
    "for i in org:\n",
    "    if i not in stopwords:\n",
    "        keywords.append(i)\n",
    "keywords"
   ]
  },
  {
   "cell_type": "code",
   "execution_count": 24,
   "id": "6304601b-da90-4396-94bd-c597d2122a85",
   "metadata": {},
   "outputs": [
    {
     "data": {
      "text/plain": [
       "'OHSE'"
      ]
     },
     "execution_count": 24,
     "metadata": {},
     "output_type": "execute_result"
    }
   ],
   "source": [
    "acro = ''\n",
    "for i in keywords:\n",
    "    acro += i[0].upper()\n",
    "acro"
   ]
  },
  {
   "cell_type": "code",
   "execution_count": null,
   "id": "643e7e6b-97dc-487f-936e-4d75e4afc2e6",
   "metadata": {},
   "outputs": [],
   "source": [
    "# object oriented programming\n"
   ]
  },
  {
   "cell_type": "code",
   "execution_count": 8,
   "id": "c999dd09-6bc4-43ba-8d1b-91730d747ef8",
   "metadata": {},
   "outputs": [],
   "source": [
    "#Billing System"
   ]
  },
  {
   "cell_type": "code",
   "execution_count": 1,
   "id": "bea85299-1eee-4808-83f8-1cfc3f2f8b03",
   "metadata": {},
   "outputs": [
    {
     "ename": "SyntaxError",
     "evalue": "invalid syntax (876705177.py, line 9)",
     "output_type": "error",
     "traceback": [
      "\u001b[1;36m  Cell \u001b[1;32mIn[1], line 9\u001b[1;36m\u001b[0m\n\u001b[1;33m    sales_tax = 7.5%\u001b[0m\n\u001b[1;37m                    ^\u001b[0m\n\u001b[1;31mSyntaxError\u001b[0m\u001b[1;31m:\u001b[0m invalid syntax\n"
     ]
    }
   ],
   "source": [
    "name = apple\n",
    "price = 1.50\n",
    "quantity = 3\n",
    "\n",
    "name = bread\n",
    "price = 3.50\n",
    "quantity = 2\n",
    "\n",
    "sales_tax = 7.5%\n",
    "total = price * quantity\n",
    "print(name, 'is', price )"
   ]
  },
  {
   "cell_type": "code",
   "execution_count": 25,
   "id": "ce93d33a-3b2f-4162-b4b7-fa9d4beb9676",
   "metadata": {},
   "outputs": [],
   "source": [
    "#   OOP IN PTHON"
   ]
  },
  {
   "cell_type": "code",
   "execution_count": 63,
   "id": "eee6b148-5ee4-460b-840c-9418de86ca69",
   "metadata": {},
   "outputs": [],
   "source": [
    "class Rectangle:\n",
    "    def __init__(self, length, breath):\n",
    "        self.length = length\n",
    "        self.breath = breath\n",
    "    def perimeter(self):\n",
    "        return 2*(self.length + self.breath)\n",
    "    def area(self):\n",
    "        return self.length * self.breath\n",
    "    def __str__(self)\n",
    "        return'the perimeter of the rectangle is {}'. format(Rectangle.perimeter(self)) (Rectangle.area(self))\n"
   ]
  },
  {
   "cell_type": "code",
   "execution_count": 64,
   "id": "e9012510-31bc-4e6a-bbb5-2d26d2dadae6",
   "metadata": {},
   "outputs": [
    {
     "name": "stdout",
     "output_type": "stream",
     "text": [
      "<__main__.Rectangle object at 0x000001F696319250>\n",
      "<__main__.Rectangle object at 0x000001F6963BBA10>\n"
     ]
    }
   ],
   "source": [
    "rect1 = Rectangle(5,6)\n",
    "rect2 = Rectangle(6,7)\n",
    "print(rect1)\n",
    "print(rect2)"
   ]
  },
  {
   "cell_type": "code",
   "execution_count": 80,
   "id": "03f7dfcd-c086-4584-ac1c-b207bdf95cb5",
   "metadata": {},
   "outputs": [
    {
     "name": "stdout",
     "output_type": "stream",
     "text": [
      "22\n",
      "30\n"
     ]
    }
   ],
   "source": [
    "print(Rectangle.perimeter(rect1))\n",
    "print(Rectangle.area(rect1))"
   ]
  },
  {
   "cell_type": "code",
   "execution_count": 83,
   "id": "356f5265-023d-4203-8f36-055637562be8",
   "metadata": {},
   "outputs": [
    {
     "name": "stdout",
     "output_type": "stream",
     "text": [
      "26\n",
      "42\n"
     ]
    }
   ],
   "source": [
    "print(Rectangle.perimeter(rect2))\n",
    "print(Rectangle.area(rect2))"
   ]
  },
  {
   "cell_type": "code",
   "execution_count": 84,
   "id": "bbe86e17-077e-4284-866c-675ab45b1680",
   "metadata": {},
   "outputs": [
    {
     "name": "stdout",
     "output_type": "stream",
     "text": [
      "<__main__.Rectangle object at 0x000001F696319250>\n",
      "<__main__.Rectangle object at 0x000001F6963BBA10>\n"
     ]
    }
   ],
   "source": [
    "def __str__(self):\n",
    "    return'the perimeter of the rectangle is{}, area is {}'. format(Rectangle.perimeter(self)), (Rectangle.area(self))\n",
    "print(rect1)\n",
    "print(rect2)"
   ]
  },
  {
   "cell_type": "code",
   "execution_count": null,
   "id": "68c9f83f-3717-467a-a967-0e14b6399b63",
   "metadata": {},
   "outputs": [],
   "source": [
    "whose constructor accepts a str and float as .\n",
    "Test 1 = blue, price = 89.99\n",
    "Test 2 = purple, price = 25.0"
   ]
  },
  {
   "cell_type": "code",
   "execution_count": 3,
   "id": "c5445866-b840-403b-b67b-73366629003d",
   "metadata": {},
   "outputs": [],
   "source": [
    "class Bike:\n",
    "    def __init__(self, color, price):\n",
    "        self.color = str(color)\n",
    "        self.price = float(price)\n",
    "\n",
    "Test1 = Bike('blue', 89.99)\n",
    "Test2 = Bike('purple', 25.0)"
   ]
  },
  {
   "cell_type": "code",
   "execution_count": null,
   "id": "80f71ad9-f0b9-4aed-84ce-8c76d6c736c0",
   "metadata": {},
   "outputs": [],
   "source": []
  },
  {
   "cell_type": "code",
   "execution_count": null,
   "id": "a22c73f4-1423-4981-bc99-3e1851942153",
   "metadata": {},
   "outputs": [],
   "source": [
    "#create a class calle"
   ]
  },
  {
   "cell_type": "code",
   "execution_count": 4,
   "id": "9e79e301-8832-401e-bf91-7f52ead6d6c5",
   "metadata": {},
   "outputs": [],
   "source": [
    "class Student:\n",
    "    def __init__(self, name, matric_num, gpa):\n",
    "        self.name = name.title()\n",
    "        self.matric_num = matric_num.upper()\n",
    "        self.gpa = list(map(float, gpa.split(' ')))\n",
    "\n",
    "    def department(self):\n",
    "        self.dept = self.matric_num[:3].upper()\n",
    "        return self.dept\n",
    "\n",
    "    def cgpa(self):\n",
    "        self.my_cgpa = sum(self.gpa)/len(self.gpa)\n",
    "        return self.my_cgpa\n",
    "\n",
    "    def degree_class(self):\n",
    "        if self.my_cgpa >= 4.5:\n",
    "            return 'First Class'\n",
    "        elif self.my_cgpa >=3.5<4.5:\n",
    "            return 'Second Class Upper'\n",
    "        elif self.my_cgpa >=2.5<3.5:\n",
    "            return 'Second Class Lower'\n",
    "        else:\n",
    "            return 'Third Class'\n",
    "\n",
    "    def __str__(self):\n",
    "        return f\"Hello {self.name} with matric number {self.matric_num}, Department of {Student.department(self)}: Your CGPA is {Student.cgpa(self):.2f} leading to {Student.degree_class(self)} class of degree\""
   ]
  },
  {
   "cell_type": "code",
   "execution_count": null,
   "id": "26da3640-5fa3-4649-a44c-dafa48a84ff0",
   "metadata": {},
   "outputs": [],
   "source": []
  },
  {
   "cell_type": "code",
   "execution_count": 7,
   "id": "4bd2d569-7ba5-49e1-aa80-5536b703eaaa",
   "metadata": {},
   "outputs": [
    {
     "name": "stdin",
     "output_type": "stream",
     "text": [
      "kindly input your name:  bright ebuka\n",
      "kindly input your matric number:  f/hd/19/3440045\n",
      "kindly input your gpa per ll separated by space:  4.09 4.5 4.9 3.99\n"
     ]
    },
    {
     "name": "stdout",
     "output_type": "stream",
     "text": [
      "Hello Bright Ebuka with matric number F/HD/19/3440045, Department of F/H: Your CGPA is 4.37 leading to Second Class Upper class of degree\n"
     ]
    }
   ],
   "source": [
    "std1 = Student(str(input('kindly input your name: ')),\n",
    "               str(input('kindly input your matric number: ')),\n",
    "               (input('kindly input your gpa per ll separated by space: '))\n",
    ")\n",
    "\n",
    "print(std1)"
   ]
  },
  {
   "cell_type": "code",
   "execution_count": 7,
   "id": "bea83d79-1bd3-41de-8361-189364ba7076",
   "metadata": {},
   "outputs": [],
   "source": [
    "# Bank"
   ]
  },
  {
   "cell_type": "code",
   "execution_count": null,
   "id": "f89deded-2884-4ec7-8082-b78e36519e54",
   "metadata": {},
   "outputs": [],
   "source": []
  }
 ],
 "metadata": {
  "kernelspec": {
   "display_name": "Python 3 (ipykernel)",
   "language": "python",
   "name": "python3"
  },
  "language_info": {
   "codemirror_mode": {
    "name": "ipython",
    "version": 3
   },
   "file_extension": ".py",
   "mimetype": "text/x-python",
   "name": "python",
   "nbconvert_exporter": "python",
   "pygments_lexer": "ipython3",
   "version": "3.11.7"
  }
 },
 "nbformat": 4,
 "nbformat_minor": 5
}
